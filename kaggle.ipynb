{
 "cells": [
  {
   "cell_type": "code",
   "execution_count": 1,
   "metadata": {},
   "outputs": [],
   "source": [
    "import torch\n",
    "from model import *"
   ]
  },
  {
   "cell_type": "code",
   "execution_count": 14,
   "metadata": {},
   "outputs": [],
   "source": [
    "def unpickle(file):\n",
    "    import pickle\n",
    "    with open(file, 'rb') as fo:\n",
    "        dict = pickle.load(fo, encoding='bytes')\n",
    "    return dict\n",
    "\n",
    "device = torch.device('mps')\n",
    "checkpoint = torch.load('checkpoint/ckpt_20240409_223951.pth', map_location=device)\n",
    "test_data = unpickle('cifar_test_nolabels.pkl')\n",
    "\n",
    "state_dict = checkpoint['net']\n",
    "state_dict = {k.replace(\"module.\", \"\"): v for k, v in state_dict.items()}"
   ]
  },
  {
   "cell_type": "code",
   "execution_count": 15,
   "metadata": {},
   "outputs": [
    {
     "data": {
      "text/plain": [
       "<All keys matched successfully>"
      ]
     },
     "execution_count": 15,
     "metadata": {},
     "output_type": "execute_result"
    }
   ],
   "source": [
    "model_params = {'num_blocks': [5, 4, 3], 'channels': 64}\n",
    "model = SiLUResNet(ResidualBlock, **model_params)\n",
    "model.to(device)\n",
    "model.load_state_dict(state_dict)"
   ]
  },
  {
   "cell_type": "code",
   "execution_count": 8,
   "metadata": {},
   "outputs": [],
   "source": [
    "from torchvision import transforms\n",
    "\n",
    "norm = transforms.Normalize((0.5, 0.5, 0.5), (0.5, 0.5, 0.5))\n",
    "results = {'ID': [], 'Labels': []}\n",
    "\n",
    "images = torch.tensor(test_data[b'data']).float()\n",
    "images = images.view(-1, 3, 32, 32)\n",
    "images = images / 255.0\n",
    "\n",
    "with torch.no_grad():\n",
    "    images = images.to(device)\n",
    "    outputs = model(images)\n",
    "    _, predictions = torch.max(outputs, 1)\n",
    "\n",
    "predictions_arr = predictions.cpu().numpy()"
   ]
  },
  {
   "cell_type": "code",
   "execution_count": 10,
   "metadata": {},
   "outputs": [],
   "source": [
    "import csv\n",
    "\n",
    "def write_csv(results):\n",
    "    # Open the CSV file in write mode\n",
    "    with open('results.csv', 'w', newline='') as file:\n",
    "        writer = csv.DictWriter(file, fieldnames=['ID', 'Label'])\n",
    "        \n",
    "        # Write the header row\n",
    "        writer.writeheader()\n",
    "        \n",
    "        # Write the data rows\n",
    "        for ids_, prediction in enumerate(results):\n",
    "            writer.writerow({'ID': ids_, 'Label': prediction})\n",
    "\n",
    "write_csv(predictions_arr)"
   ]
  }
 ],
 "metadata": {
  "kernelspec": {
   "display_name": "venv",
   "language": "python",
   "name": "python3"
  },
  "language_info": {
   "codemirror_mode": {
    "name": "ipython",
    "version": 3
   },
   "file_extension": ".py",
   "mimetype": "text/x-python",
   "name": "python",
   "nbconvert_exporter": "python",
   "pygments_lexer": "ipython3",
   "version": "3.12.2"
  }
 },
 "nbformat": 4,
 "nbformat_minor": 2
}
